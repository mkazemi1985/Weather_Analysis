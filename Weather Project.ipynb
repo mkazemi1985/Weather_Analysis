{
 "cells": [
  {
   "cell_type": "code",
   "execution_count": 1,
   "id": "e68a40fd",
   "metadata": {},
   "outputs": [],
   "source": [
    "import pandas as pd"
   ]
  },
  {
   "cell_type": "code",
   "execution_count": 2,
   "id": "13c333dc",
   "metadata": {},
   "outputs": [],
   "source": [
    "data = pd.read_csv('Weather Data.csv')"
   ]
  },
  {
   "cell_type": "code",
   "execution_count": 3,
   "id": "70904d82",
   "metadata": {},
   "outputs": [
    {
     "data": {
      "text/html": [
       "<div>\n",
       "<style scoped>\n",
       "    .dataframe tbody tr th:only-of-type {\n",
       "        vertical-align: middle;\n",
       "    }\n",
       "\n",
       "    .dataframe tbody tr th {\n",
       "        vertical-align: top;\n",
       "    }\n",
       "\n",
       "    .dataframe thead th {\n",
       "        text-align: right;\n",
       "    }\n",
       "</style>\n",
       "<table border=\"1\" class=\"dataframe\">\n",
       "  <thead>\n",
       "    <tr style=\"text-align: right;\">\n",
       "      <th></th>\n",
       "      <th>Date/Time</th>\n",
       "      <th>Temp_C</th>\n",
       "      <th>Dew Point Temp_C</th>\n",
       "      <th>Rel Hum_%</th>\n",
       "      <th>Wind Speed_km/h</th>\n",
       "      <th>Visibility_km</th>\n",
       "      <th>Press_kPa</th>\n",
       "      <th>Weather</th>\n",
       "    </tr>\n",
       "  </thead>\n",
       "  <tbody>\n",
       "    <tr>\n",
       "      <th>0</th>\n",
       "      <td>1/1/2012 0:00</td>\n",
       "      <td>-1.8</td>\n",
       "      <td>-3.9</td>\n",
       "      <td>86</td>\n",
       "      <td>4</td>\n",
       "      <td>8.0</td>\n",
       "      <td>101.24</td>\n",
       "      <td>Fog</td>\n",
       "    </tr>\n",
       "    <tr>\n",
       "      <th>1</th>\n",
       "      <td>1/1/2012 1:00</td>\n",
       "      <td>-1.8</td>\n",
       "      <td>-3.7</td>\n",
       "      <td>87</td>\n",
       "      <td>4</td>\n",
       "      <td>8.0</td>\n",
       "      <td>101.24</td>\n",
       "      <td>Fog</td>\n",
       "    </tr>\n",
       "    <tr>\n",
       "      <th>2</th>\n",
       "      <td>1/1/2012 2:00</td>\n",
       "      <td>-1.8</td>\n",
       "      <td>-3.4</td>\n",
       "      <td>89</td>\n",
       "      <td>7</td>\n",
       "      <td>4.0</td>\n",
       "      <td>101.26</td>\n",
       "      <td>Freezing Drizzle,Fog</td>\n",
       "    </tr>\n",
       "    <tr>\n",
       "      <th>3</th>\n",
       "      <td>1/1/2012 3:00</td>\n",
       "      <td>-1.5</td>\n",
       "      <td>-3.2</td>\n",
       "      <td>88</td>\n",
       "      <td>6</td>\n",
       "      <td>4.0</td>\n",
       "      <td>101.27</td>\n",
       "      <td>Freezing Drizzle,Fog</td>\n",
       "    </tr>\n",
       "    <tr>\n",
       "      <th>4</th>\n",
       "      <td>1/1/2012 4:00</td>\n",
       "      <td>-1.5</td>\n",
       "      <td>-3.3</td>\n",
       "      <td>88</td>\n",
       "      <td>7</td>\n",
       "      <td>4.8</td>\n",
       "      <td>101.23</td>\n",
       "      <td>Fog</td>\n",
       "    </tr>\n",
       "  </tbody>\n",
       "</table>\n",
       "</div>"
      ],
      "text/plain": [
       "       Date/Time  Temp_C  Dew Point Temp_C  Rel Hum_%  Wind Speed_km/h  \\\n",
       "0  1/1/2012 0:00    -1.8              -3.9         86                4   \n",
       "1  1/1/2012 1:00    -1.8              -3.7         87                4   \n",
       "2  1/1/2012 2:00    -1.8              -3.4         89                7   \n",
       "3  1/1/2012 3:00    -1.5              -3.2         88                6   \n",
       "4  1/1/2012 4:00    -1.5              -3.3         88                7   \n",
       "\n",
       "   Visibility_km  Press_kPa               Weather  \n",
       "0            8.0     101.24                   Fog  \n",
       "1            8.0     101.24                   Fog  \n",
       "2            4.0     101.26  Freezing Drizzle,Fog  \n",
       "3            4.0     101.27  Freezing Drizzle,Fog  \n",
       "4            4.8     101.23                   Fog  "
      ]
     },
     "execution_count": 3,
     "metadata": {},
     "output_type": "execute_result"
    }
   ],
   "source": [
    "data.head()"
   ]
  },
  {
   "cell_type": "code",
   "execution_count": 4,
   "id": "b37754d6",
   "metadata": {},
   "outputs": [
    {
     "data": {
      "text/plain": [
       "(8784, 8)"
      ]
     },
     "execution_count": 4,
     "metadata": {},
     "output_type": "execute_result"
    }
   ],
   "source": [
    "data.shape"
   ]
  },
  {
   "cell_type": "code",
   "execution_count": 5,
   "id": "28d35379",
   "metadata": {},
   "outputs": [
    {
     "data": {
      "text/plain": [
       "RangeIndex(start=0, stop=8784, step=1)"
      ]
     },
     "execution_count": 5,
     "metadata": {},
     "output_type": "execute_result"
    }
   ],
   "source": [
    "data.index"
   ]
  },
  {
   "cell_type": "code",
   "execution_count": 6,
   "id": "fd2566e1",
   "metadata": {},
   "outputs": [
    {
     "data": {
      "text/plain": [
       "Index(['Date/Time', 'Temp_C', 'Dew Point Temp_C', 'Rel Hum_%',\n",
       "       'Wind Speed_km/h', 'Visibility_km', 'Press_kPa', 'Weather'],\n",
       "      dtype='object')"
      ]
     },
     "execution_count": 6,
     "metadata": {},
     "output_type": "execute_result"
    }
   ],
   "source": [
    "data.columns"
   ]
  },
  {
   "cell_type": "code",
   "execution_count": 7,
   "id": "2defa35b",
   "metadata": {},
   "outputs": [
    {
     "data": {
      "text/plain": [
       "Date/Time            object\n",
       "Temp_C              float64\n",
       "Dew Point Temp_C    float64\n",
       "Rel Hum_%             int64\n",
       "Wind Speed_km/h       int64\n",
       "Visibility_km       float64\n",
       "Press_kPa           float64\n",
       "Weather              object\n",
       "dtype: object"
      ]
     },
     "execution_count": 7,
     "metadata": {},
     "output_type": "execute_result"
    }
   ],
   "source": [
    "data.dtypes"
   ]
  },
  {
   "cell_type": "code",
   "execution_count": 9,
   "id": "09fb9ab6",
   "metadata": {},
   "outputs": [
    {
     "data": {
      "text/plain": [
       "array([101.24, 101.26, 101.27, 101.23, 101.29, 101.2 , 101.15, 100.98,\n",
       "       100.79, 100.58, 100.31, 100.07,  99.93,  99.81,  99.74,  99.68,\n",
       "        99.5 ,  99.39,  99.32,  99.31,  99.26,  99.3 ,  99.21,  99.18,\n",
       "        99.14,  99.19,  99.27,  99.33,  99.41,  99.66,  99.86, 100.  ,\n",
       "       100.15, 100.26, 100.27, 100.35, 100.43, 100.53, 100.61, 100.68,\n",
       "       100.76, 100.85, 100.95, 101.07, 101.33, 101.34, 101.38, 101.44,\n",
       "       101.51, 101.58, 101.64, 101.74, 101.82, 101.86, 101.87, 101.88,\n",
       "       101.89, 101.77, 101.75, 101.73, 101.68, 101.54, 101.41, 101.25,\n",
       "       100.97, 100.89, 100.69, 100.65, 100.54, 100.5 , 100.42, 100.32,\n",
       "       100.29, 100.28, 100.24, 100.21, 100.19, 100.39, 100.45, 100.41,\n",
       "       100.38, 100.4 , 100.46, 100.52, 100.6 , 100.71, 100.8 , 100.83,\n",
       "       100.81, 100.84, 100.7 , 100.51, 100.47, 100.36, 100.23, 100.13,\n",
       "       100.06, 100.1 , 100.12, 100.16, 100.11, 100.08, 100.05, 100.09,\n",
       "       100.33, 100.48, 100.62, 100.72, 101.13, 101.21, 101.47, 101.59,\n",
       "       101.7 , 101.81, 101.92, 101.9 , 101.94, 101.97, 102.04, 102.09,\n",
       "       102.17, 102.23, 102.26, 102.28, 102.22, 102.13, 102.15, 102.11,\n",
       "       102.02, 101.93, 101.8 , 101.4 , 101.05, 100.96, 100.9 , 100.77,\n",
       "       100.64, 100.02, 100.04, 100.91, 101.04, 101.32, 101.43, 101.49,\n",
       "       101.57, 101.66, 101.72, 101.78, 101.63, 101.56, 101.61, 101.6 ,\n",
       "       101.19, 101.17, 101.08, 101.02, 100.93, 100.22,  99.97,  99.9 ,\n",
       "        99.88,  99.83,  99.76,  99.72,  99.64,  99.56,  99.47,  99.4 ,\n",
       "        99.24,  99.22,  99.13,  99.06,  98.94,  98.84,  98.69,  98.56,\n",
       "        98.44,  98.22,  98.07,  97.99,  98.1 ,  98.16,  98.23,  98.32,\n",
       "        98.6 ,  98.89,  99.09,  99.28,  99.51,  99.67,  99.85, 100.01,\n",
       "       100.73, 101.14, 101.16, 101.18, 101.3 , 101.36, 101.46, 101.62,\n",
       "       101.65, 101.79, 101.99, 102.12, 102.19, 102.37, 102.45, 102.57,\n",
       "       102.66, 102.68, 102.67, 102.65, 102.71, 102.79, 102.85, 102.89,\n",
       "       102.94, 102.98, 103.02, 103.07, 103.09, 103.05, 103.08, 103.01,\n",
       "       102.96, 102.9 , 102.75, 102.62, 102.44, 101.71, 101.31, 101.12,\n",
       "       100.94, 100.88, 100.75, 100.59,  99.69,  99.57,  99.38,  98.98,\n",
       "        98.71,  98.47,  98.31,  98.36,  98.62,  99.  ,  99.36,  99.7 ,\n",
       "       100.78, 100.92, 101.  , 101.09, 101.45, 101.67, 101.83, 101.85,\n",
       "       101.84, 101.42, 101.22, 101.03, 100.66, 100.63, 100.87, 101.96,\n",
       "       101.98, 102.21, 102.27, 102.33, 102.34, 102.36, 102.29, 102.18,\n",
       "       102.08, 102.06, 102.03, 102.01, 102.16, 102.24, 102.47, 102.52,\n",
       "       102.54, 102.64, 102.84, 102.91, 103.04, 102.97, 102.86, 102.74,\n",
       "       102.6 , 102.38, 102.14, 102.1 , 101.76, 101.69, 101.01, 100.86,\n",
       "       100.25, 100.37, 100.49, 100.82, 101.06, 101.11, 101.37, 101.52,\n",
       "       102.05, 102.07, 101.95, 101.53, 101.28, 100.99,  99.98,  99.8 ,\n",
       "        99.61,  99.34,  99.08,  98.91,  98.76,  98.65,  98.74,  98.97,\n",
       "        99.54,  99.75, 100.03, 100.34, 100.74, 100.14,  99.95,  99.87,\n",
       "        99.96, 100.67, 101.55, 100.56, 102.31, 102.35, 102.39, 102.4 ,\n",
       "       102.42, 102.51, 102.59, 102.61, 102.46, 102.25, 102.32, 101.91,\n",
       "       101.48, 100.57, 101.39, 102.2 , 101.1 , 100.55, 100.3 , 100.44,\n",
       "       102.  , 101.5 , 100.2 ,  99.77,  99.59,  99.52,  99.29,  99.23,\n",
       "        99.17,  99.11,  99.16,  99.2 ,  99.42,  99.49,  99.53,  99.6 ,\n",
       "        99.82,  99.91,  99.07,  98.88,  98.81,  98.55,  98.39,  98.29,\n",
       "        98.18,  98.06,  98.  ,  97.97,  98.03,  98.11,  98.2 ,  98.33,\n",
       "        98.45,  98.75,  99.05, 102.41, 102.49, 102.55, 102.63, 102.72,\n",
       "       102.58, 102.5 , 102.69, 102.53, 102.56, 102.3 ,  99.55,  99.02,\n",
       "        98.79,  98.7 ,  98.86,  98.82,  98.73,  98.68,  98.67,  98.92,\n",
       "        98.96,  99.46,  99.63,  99.84,  99.94, 100.18, 102.7 , 103.  ,\n",
       "       103.06, 103.1 , 103.12, 102.81,  99.99,  99.78, 102.73, 102.95,\n",
       "       102.99, 101.35, 100.17, 102.48, 102.43,  99.45,  99.48,  99.92,\n",
       "        99.89,  99.71,  99.12,  99.1 ,  99.43,  99.37,  99.58,  99.15,\n",
       "        98.9 ,  98.8 ,  98.66,  98.61,  98.54,  98.51,  98.58,  98.64,\n",
       "        98.5 ,  98.53,  98.63,  98.72,  98.78,  99.01,  99.79,  99.65,\n",
       "        99.62,  99.73,  99.44,  99.35,  99.25, 103.15, 103.25, 103.29,\n",
       "       103.31, 103.34, 103.2 , 103.16, 103.17, 103.18, 102.93, 103.13,\n",
       "       103.24, 103.28, 103.39, 103.47, 103.51, 103.52, 103.5 , 103.43,\n",
       "       103.46, 103.49, 103.54, 103.56, 103.58, 103.59, 103.63, 103.61,\n",
       "       103.65, 103.38, 103.36, 103.3 , 103.27, 103.22, 103.11, 103.03,\n",
       "       102.92, 102.83, 102.78, 102.82, 103.14, 103.26, 103.21, 103.19,\n",
       "       103.23,  97.93,  97.76,  97.56,  97.52,  97.58,  97.64,  97.75,\n",
       "        97.79,  97.81,  97.84,  97.89,  97.98,  98.19])"
      ]
     },
     "execution_count": 9,
     "metadata": {},
     "output_type": "execute_result"
    }
   ],
   "source": [
    "data['Press_kPa'].unique()"
   ]
  },
  {
   "cell_type": "code",
   "execution_count": 10,
   "id": "2fc98e9d",
   "metadata": {},
   "outputs": [
    {
     "data": {
      "text/plain": [
       "Date/Time           8784\n",
       "Temp_C               533\n",
       "Dew Point Temp_C     489\n",
       "Rel Hum_%             83\n",
       "Wind Speed_km/h       34\n",
       "Visibility_km         24\n",
       "Press_kPa            518\n",
       "Weather               50\n",
       "dtype: int64"
      ]
     },
     "execution_count": 10,
     "metadata": {},
     "output_type": "execute_result"
    }
   ],
   "source": [
    "data.nunique()"
   ]
  },
  {
   "cell_type": "code",
   "execution_count": 11,
   "id": "bc639906",
   "metadata": {},
   "outputs": [
    {
     "data": {
      "text/plain": [
       "50"
      ]
     },
     "execution_count": 11,
     "metadata": {},
     "output_type": "execute_result"
    }
   ],
   "source": [
    "data['Weather'].nunique()"
   ]
  },
  {
   "cell_type": "code",
   "execution_count": 12,
   "id": "da392ee6",
   "metadata": {},
   "outputs": [
    {
     "data": {
      "text/plain": [
       "Date/Time           8784\n",
       "Temp_C              8784\n",
       "Dew Point Temp_C    8784\n",
       "Rel Hum_%           8784\n",
       "Wind Speed_km/h     8784\n",
       "Visibility_km       8784\n",
       "Press_kPa           8784\n",
       "Weather             8784\n",
       "dtype: int64"
      ]
     },
     "execution_count": 12,
     "metadata": {},
     "output_type": "execute_result"
    }
   ],
   "source": [
    "data.count()"
   ]
  },
  {
   "cell_type": "code",
   "execution_count": 13,
   "id": "ebeb308e",
   "metadata": {},
   "outputs": [
    {
     "data": {
      "text/plain": [
       "8784"
      ]
     },
     "execution_count": 13,
     "metadata": {},
     "output_type": "execute_result"
    }
   ],
   "source": [
    "data['Weather'].count()"
   ]
  },
  {
   "cell_type": "code",
   "execution_count": 14,
   "id": "5c5a490c",
   "metadata": {},
   "outputs": [
    {
     "data": {
      "text/plain": [
       "Mainly Clear                               2106\n",
       "Mostly Cloudy                              2069\n",
       "Cloudy                                     1728\n",
       "Clear                                      1326\n",
       "Snow                                        390\n",
       "Rain                                        306\n",
       "Rain Showers                                188\n",
       "Fog                                         150\n",
       "Rain,Fog                                    116\n",
       "Drizzle,Fog                                  80\n",
       "Snow Showers                                 60\n",
       "Drizzle                                      41\n",
       "Snow,Fog                                     37\n",
       "Snow,Blowing Snow                            19\n",
       "Rain,Snow                                    18\n",
       "Thunderstorms,Rain Showers                   16\n",
       "Haze                                         16\n",
       "Drizzle,Snow,Fog                             15\n",
       "Freezing Rain                                14\n",
       "Freezing Drizzle,Snow                        11\n",
       "Freezing Drizzle                              7\n",
       "Snow,Ice Pellets                              6\n",
       "Freezing Drizzle,Fog                          6\n",
       "Snow,Haze                                     5\n",
       "Freezing Fog                                  4\n",
       "Snow Showers,Fog                              4\n",
       "Moderate Snow                                 4\n",
       "Rain,Snow,Ice Pellets                         4\n",
       "Freezing Rain,Fog                             4\n",
       "Freezing Drizzle,Haze                         3\n",
       "Rain,Haze                                     3\n",
       "Thunderstorms,Rain                            3\n",
       "Thunderstorms,Rain Showers,Fog                3\n",
       "Freezing Rain,Haze                            2\n",
       "Drizzle,Snow                                  2\n",
       "Rain Showers,Snow Showers                     2\n",
       "Thunderstorms                                 2\n",
       "Moderate Snow,Blowing Snow                    2\n",
       "Rain Showers,Fog                              1\n",
       "Thunderstorms,Moderate Rain Showers,Fog       1\n",
       "Snow Pellets                                  1\n",
       "Rain,Snow,Fog                                 1\n",
       "Moderate Rain,Fog                             1\n",
       "Freezing Rain,Ice Pellets,Fog                 1\n",
       "Drizzle,Ice Pellets,Fog                       1\n",
       "Thunderstorms,Rain,Fog                        1\n",
       "Rain,Ice Pellets                              1\n",
       "Rain,Snow Grains                              1\n",
       "Thunderstorms,Heavy Rain Showers              1\n",
       "Freezing Rain,Snow Grains                     1\n",
       "Name: Weather, dtype: int64"
      ]
     },
     "execution_count": 14,
     "metadata": {},
     "output_type": "execute_result"
    }
   ],
   "source": [
    "data['Weather'].value_counts()"
   ]
  },
  {
   "cell_type": "code",
   "execution_count": 15,
   "id": "3afeb515",
   "metadata": {},
   "outputs": [
    {
     "name": "stdout",
     "output_type": "stream",
     "text": [
      "<class 'pandas.core.frame.DataFrame'>\n",
      "RangeIndex: 8784 entries, 0 to 8783\n",
      "Data columns (total 8 columns):\n",
      " #   Column            Non-Null Count  Dtype  \n",
      "---  ------            --------------  -----  \n",
      " 0   Date/Time         8784 non-null   object \n",
      " 1   Temp_C            8784 non-null   float64\n",
      " 2   Dew Point Temp_C  8784 non-null   float64\n",
      " 3   Rel Hum_%         8784 non-null   int64  \n",
      " 4   Wind Speed_km/h   8784 non-null   int64  \n",
      " 5   Visibility_km     8784 non-null   float64\n",
      " 6   Press_kPa         8784 non-null   float64\n",
      " 7   Weather           8784 non-null   object \n",
      "dtypes: float64(4), int64(2), object(2)\n",
      "memory usage: 549.1+ KB\n"
     ]
    }
   ],
   "source": [
    "data.info()"
   ]
  }
 ],
 "metadata": {
  "kernelspec": {
   "display_name": "Python 3 (ipykernel)",
   "language": "python",
   "name": "python3"
  },
  "language_info": {
   "codemirror_mode": {
    "name": "ipython",
    "version": 3
   },
   "file_extension": ".py",
   "mimetype": "text/x-python",
   "name": "python",
   "nbconvert_exporter": "python",
   "pygments_lexer": "ipython3",
   "version": "3.9.5"
  }
 },
 "nbformat": 4,
 "nbformat_minor": 5
}
